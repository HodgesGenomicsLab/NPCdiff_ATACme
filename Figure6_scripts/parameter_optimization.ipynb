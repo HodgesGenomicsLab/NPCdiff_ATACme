{
 "cells": [
  {
   "cell_type": "markdown",
   "metadata": {},
   "source": [
    "# Get all peaks BED"
   ]
  },
  {
   "cell_type": "code",
   "execution_count": 1,
   "metadata": {
    "collapsed": true
   },
   "outputs": [],
   "source": [
    "# Get BEDs prepared for input\n",
    "\n",
    "dir_beds=/data/hodges_lab/Tim/biomodal/data/tcseq/\n",
    "\n",
    "## Dynamic: \n",
    "\n",
    "cd ${dir_beds}\n",
    "\n",
    "# Combine\n",
    "# Dynamic only\n",
    "cat peak_subset_cluster_1.bed \\\n",
    "peak_subset_cluster_2.bed \\\n",
    "peak_subset_cluster_3.bed \\\n",
    "peak_subset_cluster_4.bed \\\n",
    "peak_subset_cluster_5.bed \\\n",
    "peak_subset_cluster_6.bed \\\n",
    "peak_subset_cluster_7.bed \\\n",
    "peak_subset_static.bed | \\\n",
    "bedtools sort -i - | bedtools merge -i - > peaks_all.txt"
   ]
  },
  {
   "cell_type": "markdown",
   "metadata": {},
   "source": [
    "# Libraries"
   ]
  },
  {
   "cell_type": "code",
   "execution_count": 1,
   "metadata": {},
   "outputs": [
    {
     "name": "stdout",
     "output_type": "stream",
     "text": [
      "2024-06-27 11:00:51 | INFO | [/data/hodges_lab/Tim/.conda/envs/jupyter_modality/lib/python3.11/site-packages/modality/read_locally.py:20] Setting cache dir as /data/hodges_lab/Tim/biomodal/tmp/. To modify alter the DS_BUCKET_CACHE environment variable\n",
      "Loaded.\n"
     ]
    }
   ],
   "source": [
    "#  /data/hodges_lab/Tim/.conda/envs/jupyter_modality/lib/python3.11/site-packages\n",
    "import numpy as np\n",
    "import pandas as pd\n",
    "import matplotlib.pyplot as plt\n",
    "import pyranges as pr\n",
    "import seaborn as sns\n",
    "import statsmodels.api as sm\n",
    "import xgboost as xgb\n",
    "import xarray as xr\n",
    "from sklearn.model_selection import train_test_split, GridSearchCV\n",
    "from sklearn.metrics import mean_squared_error, r2_score\n",
    "from scipy.stats import pearsonr, spearmanr\n",
    "import pysam\n",
    "import os\n",
    "os.environ[\"DS_BUCKET_CACHE\"]=\"/data/hodges_lab/Tim/biomodal/tmp/\"\n",
    "import math\n",
    "import matplotlib as mpl\n",
    "\n",
    "\n",
    "import modality\n",
    "from modality.contig_dataset import ContigDataset\n",
    "from modality.annotation import get_tss_region\n",
    "\n",
    "import warnings\n",
    "warnings.filterwarnings(action=\"ignore\", category=RuntimeWarning)\n",
    "warnings.simplefilter(action='ignore', category=FutureWarning)\n",
    "\n",
    "biomodal_palette = [\"#003B49\", \"#9CDBD9\", \"#F87C56\", \"#C0DF16\", \"#05868E\"]\n",
    "\n",
    "print(\"Loaded.\")"
   ]
  },
  {
   "cell_type": "markdown",
   "metadata": {},
   "source": [
    "# Load 6-base duet evoC data"
   ]
  },
  {
   "cell_type": "code",
   "execution_count": 2,
   "metadata": {
    "collapsed": true,
    "jupyter": {
     "outputs_hidden": true
    }
   },
   "outputs": [],
   "source": [
    "## Load 6-base duet evoC data\n",
    "sixbase_path = \"/data/hodges_lab/Tim/biomodal/data/Hodges_2024_02_CG.zarrz\"\n",
    "ds = ContigDataset.from_zarrz(sixbase_path)"
   ]
  },
  {
   "cell_type": "markdown",
   "metadata": {},
   "source": [
    "# Load region file"
   ]
  },
  {
   "cell_type": "code",
   "execution_count": 3,
   "metadata": {
    "collapsed": true
   },
   "outputs": [],
   "source": [
    "dir_regions=\"/data/hodges_lab/Tim/biomodal/data/tcseq/\""
   ]
  },
  {
   "cell_type": "markdown",
   "metadata": {},
   "source": [
    "## Load"
   ]
  },
  {
   "cell_type": "code",
   "execution_count": 4,
   "metadata": {
    "collapsed": true
   },
   "outputs": [],
   "source": [
    "# set groups to iterate through \n",
    "# note: the files were set up to have a common name, except for groupnames to iterate\n",
    "sets=['all']"
   ]
  },
  {
   "cell_type": "code",
   "execution_count": 5,
   "metadata": {
    "collapsed": true
   },
   "outputs": [],
   "source": [
    "# create a dictionary to keep track of input BED files\n",
    "beds={}\n",
    "\n",
    "# load in BED files to the dictionary\n",
    "for i in sets:\n",
    "    beds[i]=pr.readers.read_bed(dir_regions + \"peaks_\"+str(i)+\".txt\")"
   ]
  },
  {
   "cell_type": "code",
   "execution_count": 6,
   "metadata": {},
   "outputs": [
    {
     "data": {
      "text/plain": [
       "{'all': +---------------------+-----------+-----------+\n",
       " | Chromosome          | Start     | End       |\n",
       " | (category)          | (int64)   | (int64)   |\n",
       " |---------------------+-----------+-----------|\n",
       " | chr1                | 267930    | 268098    |\n",
       " | chr1                | 629030    | 634961    |\n",
       " | chr1                | 778344    | 779234    |\n",
       " | chr1                | 827231    | 827715    |\n",
       " | ...                 | ...       | ...       |\n",
       " | chrUn_KI270747v1    | 3652      | 3819      |\n",
       " | chrUn_KI270752v1    | 20582     | 20719     |\n",
       " | chrUn_KI270754v1    | 36001     | 36168     |\n",
       " | chrX_KI270880v1_alt | 5139      | 5600      |\n",
       " +---------------------+-----------+-----------+\n",
       " Unstranded PyRanges object has 101,213 rows and 3 columns from 98 chromosomes.\n",
       " For printing, the PyRanges was sorted on Chromosome.}"
      ]
     },
     "execution_count": 6,
     "metadata": {},
     "output_type": "execute_result"
    }
   ],
   "source": [
    "beds"
   ]
  },
  {
   "cell_type": "markdown",
   "metadata": {},
   "source": [
    "# Center bed files"
   ]
  },
  {
   "cell_type": "markdown",
   "metadata": {},
   "source": [
    "## Function def"
   ]
  },
  {
   "cell_type": "code",
   "execution_count": 7,
   "metadata": {
    "collapsed": true
   },
   "outputs": [],
   "source": [
    "## center_bed_coord\n",
    "## Purpose: Take in a pyranges bed file and centers the start and end coordinates\n",
    "##          to represent one base pair\n",
    "## Takes: PyRanges object\n",
    "## Returns: PyRanges object\n",
    "## E.g.: chr1  100  200  -->  chr1  150 151\n",
    "def center_bed_coord(input_bed, offset):\n",
    "    # make copy of input PyRanges as df\n",
    "    input_bed_df=input_bed.df\n",
    "    # find start\n",
    "    input_bed_df['Start']=np.floor((input_bed.df['Start']+input_bed.df['End']) / 2).astype(int)-offset\n",
    "    # find end\n",
    "    input_bed_df['End'] = (np.floor((input_bed.df['Start']+input_bed.df['End']) / 2)).astype(int)+offset\n",
    "    # convert to PyRanges object\n",
    "    input_bed_pr=pr.PyRanges(input_bed_df)\n",
    "    # return PyRanges object\n",
    "    return(input_bed_pr)"
   ]
  },
  {
   "cell_type": "markdown",
   "metadata": {},
   "source": [
    "## center"
   ]
  },
  {
   "cell_type": "code",
   "execution_count": 8,
   "metadata": {
    "collapsed": true
   },
   "outputs": [],
   "source": [
    "# create empty dictionary to keep track of centered BEDs\n",
    "beds250={}\n",
    "offset_val=250\n",
    "\n",
    "# center\n",
    "for i in sets:\n",
    "    beds250[i]=center_bed_coord(beds[i], offset_val)"
   ]
  },
  {
   "cell_type": "markdown",
   "metadata": {},
   "source": [
    "# Map ATAC_6base data"
   ]
  },
  {
   "cell_type": "markdown",
   "metadata": {},
   "source": [
    "## Function def"
   ]
  },
  {
   "cell_type": "code",
   "execution_count": 9,
   "metadata": {
    "collapsed": true
   },
   "outputs": [],
   "source": [
    "## Written by Biomodal\n",
    "def get_atac_6base_over_tss(time, ds, tss_pr):\n",
    "\n",
    "    # select sample for the timepoint\n",
    "    if time == 0:\n",
    "        sample = \"10274-AJ-0289\"\n",
    "        atac_time = \"0hr\"\n",
    "    elif time == 4:\n",
    "        sample = \"10274-AJ-0290\"\n",
    "        atac_time = \"108hr\"\n",
    "    elif time == 8:\n",
    "        sample = \"10274-AJ-0291\"\n",
    "        atac_time = \"12day\"\n",
    "\n",
    "    print(\"Getting 6-base data for sample: \" + sample)\n",
    "    ds = ds.select_samples([sample])\n",
    "    \n",
    "    ds = ds.assign_fractions(\n",
    "        numerators=[\"num_modc\", \"num_mc\", \"num_hmc\"],\n",
    "        denominator=\"num_total_c\", \n",
    "        min_coverage=10\n",
    "    )\n",
    "\n",
    "    # load ATAC_seq data\n",
    "    atac_path = \"/data/hodges_lab/Tim/biomodal/data/bedgraphs/NPCdiffATACme\" + atac_time + \"_merge_filtered.bedGraph\"\n",
    "    print(\"Loading ATAC-seq data from: \" + atac_path)\n",
    "    atac = pd.read_csv(atac_path, sep = \"\\t\",\n",
    "                       names=['Chromosome', 'Start', 'End', 'Accessibility'])\n",
    "    \n",
    "    contigs = [\"chr\" + str(x) for x in list(range(1,23)) + [\"X\", \"Y\"]]\n",
    "    atac = atac[atac.Chromosome.isin(contigs)]\n",
    "    atac.Chromosome = pd.Categorical(atac.Chromosome)\n",
    "    atac.Start = atac.Start.astype(int)\n",
    "    atac.End = atac.End.astype(int)\n",
    "    atac.Accessibility = atac.Accessibility.astype(float)\n",
    "    atac['End'] = atac['End'] - 1\n",
    "    # make as pyranges\n",
    "    atac_pr = pr.PyRanges(atac)\n",
    "\n",
    "    print(\"Overlapping ATAC-seq data with TSS regions.\")\n",
    "    # find atac-regions that overlap tss\n",
    "    accessib = atac_pr.intersect(tss_pr)\n",
    "    # assign id to the overlapping regions\n",
    "    # if less than 1 bp apart, assign the same id\n",
    "    r = accessib.cluster(slack=1)\n",
    "    # add length of regions\n",
    "    r.Length = r.lengths()\n",
    "    # group by clusters\n",
    "    g = r.df.groupby('Cluster')\n",
    "\n",
    "    # start and end coordinates for each cluster is now a TSS\n",
    "    # for each region, get the mean accessibility, weighted by the length of the region\n",
    "    result = pr.from_dict(\n",
    "            {\n",
    "                \"Chromosome\": g.Chromosome.first(),\n",
    "                \"Start\": g.Start.min(),\n",
    "                \"End\": g.End.max(),\n",
    "                \"accessibility\": g.apply(collapse, 'Accessibility'),\n",
    "            }\n",
    "        )\n",
    "    \n",
    "    # join with tss data\n",
    "    joined_list = result.join(tss_pr)\n",
    "    atac_over_tss = joined_list\n",
    "    atac_over_tss = atac_over_tss.drop_duplicate_positions().sort().copy()\n",
    "    \n",
    "    # update Range ID\n",
    "    atac_over_tss.Ranges_ID = list(range(len(atac_over_tss)))\n",
    "    \n",
    "    # summarise 6-base data for all TSS regions\n",
    "    print(\"Summarising 6-base data over TSS regions.\")\n",
    "    sixbase_over_tss = []\n",
    "    \n",
    "    for mod in [\"mc\", \"hmc\", \"modc\"]:\n",
    "        print(mod)\n",
    "    \n",
    "        for offset_val in (-1000, -500, 0, 500, 1000):\n",
    "            \n",
    "            qq = atac_over_tss.apply(offset, offset=offset_val).unstrand()\n",
    "                    \n",
    "            y = ds.reduce_byranges(\n",
    "                ranges=qq[[\"Chromosome\", \"Start\", \"End\", \"Ranges_ID\"]],\n",
    "                var=[f'frac_{mod}', f'num_{mod}'],\n",
    "                min_count=1,\n",
    "                # min_count is the minimum number of data entries required in each interval of range to calculate mean\n",
    "                # we could adjust this to 3 or so\n",
    "            )\n",
    "    \n",
    "            # also add num_contexts and range_length as data_vars\n",
    "            y = y.reset_coords(['num_contexts', 'range_length'])\n",
    "            \n",
    "            mapper = {c: f\"{c}_{offset_val}\" for c in y.data_vars}\n",
    "            y = y.rename_vars(mapper)\n",
    "            \n",
    "            sixbase_over_tss.append(y)\n",
    "            \n",
    "            #print(offset_val, mod)\n",
    "            \n",
    "    # create data frame with summarised 6-base data over TSS\n",
    "    sixbase_over_tss_results = xr.merge(sixbase_over_tss, compat = 'override')\n",
    "    sixbase_over_tss_df = sixbase_over_tss_results.to_dataframe().droplevel(1)\n",
    "    sixbase_over_tss_df = sixbase_over_tss_df.drop([\"contig\", \"start\", \"end\"], axis=1)\n",
    "\n",
    "    # add atac data to df\n",
    "    result_df = atac_over_tss.df.copy()\n",
    "    result_df = result_df.set_index(\"Ranges_ID\")\n",
    "    result_df = result_df.join(sixbase_over_tss_df)\n",
    "    # not including TSS with accessibility = 0 at this stage\n",
    "    # TODO: identify \"true\" regions with 0 accessibility using coverage from WGS data?\n",
    "    result_df['log_accessibility'] = [np.log(x) if x > 0 else np.nan for x in result_df.accessibility.values]\n",
    "    return(result_df)\n",
    "    \n",
    "\n",
    "# for each region, get the mean accessibility, weighted by the length of the region\n",
    "def collapse(df, val):\n",
    "    x = np.average(df[val], weights = df.Length)\n",
    "    return x\n",
    "\n",
    "\n",
    "def offset(df, **kwargs):\n",
    "    df_copy = df.copy()\n",
    "    df_copy.loc[:, \"End\"] = kwargs[\"offset\"] + df_copy.End\n",
    "    df_copy.loc[:, \"Start\"] = kwargs[\"offset\"] + df_copy.Start\n",
    "    return df_copy"
   ]
  },
  {
   "cell_type": "markdown",
   "metadata": {},
   "source": [
    "## map"
   ]
  },
  {
   "cell_type": "code",
   "execution_count": 10,
   "metadata": {
    "scrolled": true
   },
   "outputs": [
    {
     "name": "stdout",
     "output_type": "stream",
     "text": [
      "-------------     Mapping: all     -------------\n",
      "Getting 6-base data for sample: 10274-AJ-0289\n",
      "Loading ATAC-seq data from: /data/hodges_lab/Tim/biomodal/data/bedgraphs/NPCdiffATACme0hr_merge_filtered.bedGraph\n",
      "Overlapping ATAC-seq data with TSS regions.\n",
      "Summarising 6-base data over TSS regions.\n",
      "mc\n",
      "hmc\n",
      "modc\n",
      "Getting 6-base data for sample: 10274-AJ-0291\n",
      "Loading ATAC-seq data from: /data/hodges_lab/Tim/biomodal/data/bedgraphs/NPCdiffATACme12day_merge_filtered.bedGraph\n",
      "Overlapping ATAC-seq data with TSS regions.\n",
      "Summarising 6-base data over TSS regions.\n",
      "mc\n",
      "hmc\n",
      "modc\n"
     ]
    }
   ],
   "source": [
    "beds250_m0={}\n",
    "#beds250_m4={}\n",
    "beds250_m8={}\n",
    "\n",
    "for i in sets:\n",
    "    print('-------------     Mapping: '+i+'     -------------')\n",
    "    beds250_m0[i]=get_atac_6base_over_tss(time = 0,\n",
    "                                          ds = ds,\n",
    "                                          tss_pr = beds250[i])\n",
    "#     beds250_m4[i]=get_atac_6base_over_tss(time = 4,\n",
    "#                                           ds = ds,\n",
    "#                                           tss_pr = beds250[i])\n",
    "    beds250_m8[i]=get_atac_6base_over_tss(time = 8,\n",
    "                                          ds = ds,\n",
    "                                          tss_pr = beds250[i])"
   ]
  },
  {
   "cell_type": "code",
   "execution_count": 11,
   "metadata": {},
   "outputs": [
    {
     "data": {
      "text/plain": [
       "{'all':           Chromosome     Start       End  accessibility   Start_b     End_b  \\\n",
       " Ranges_ID                                                                     \n",
       " 0               chr1    267764    268264       3.017969    267764    268264   \n",
       " 1               chr1    631745    632245    4282.071431    631745    632245   \n",
       " 2               chr1    778539    779039      35.589427    778539    779039   \n",
       " 3               chr1    827223    827723       7.054094    827223    827723   \n",
       " 4               chr1    844606    845106       4.541820    844606    845106   \n",
       " ...              ...       ...       ...            ...       ...       ...   \n",
       " 99823          chr22  50775093  50775593      16.806213  50775093  50775593   \n",
       " 99824          chr22  50783405  50783905      12.815731  50783405  50783905   \n",
       " 99825          chr22  50796271  50796771       0.762135  50796271  50796771   \n",
       " 99826          chr22  50806755  50807255      11.821018  50806755  50807255   \n",
       " 99827          chr22  50807757  50808257      47.061389  50807757  50808257   \n",
       " \n",
       "            frac_mc_sum_-1000  frac_mc_mean_-1000  frac_mc_cpg_count_-1000  \\\n",
       " Ranges_ID                                                                   \n",
       " 0                   0.000000                 NaN                      0.0   \n",
       " 1                   2.863636            0.572727                      5.0   \n",
       " 2                  27.083127            0.902771                     30.0   \n",
       " 3                   2.693124            0.673281                      4.0   \n",
       " 4                   8.115961            0.811596                     10.0   \n",
       " ...                      ...                 ...                      ...   \n",
       " 99823              23.792785            0.915107                     26.0   \n",
       " 99824               3.401472            0.850368                      4.0   \n",
       " 99825               6.848953            0.856119                      8.0   \n",
       " 99826               7.567821            0.945978                      8.0   \n",
       " 99827              63.425881            0.598357                    106.0   \n",
       " \n",
       "            num_mc_sum_-1000  ...  num_modc_sum_500  num_modc_mean_500  \\\n",
       " Ranges_ID                    ...                                        \n",
       " 0                       0.0  ...             113.0           9.416667   \n",
       " 1                     145.0  ...             221.0           6.906250   \n",
       " 2                     527.0  ...              23.0           0.442308   \n",
       " 3                      47.0  ...               3.0           0.027778   \n",
       " 4                     151.0  ...             155.0          11.071429   \n",
       " ...                     ...  ...               ...                ...   \n",
       " 99823                 455.0  ...             201.0          12.562500   \n",
       " 99824                  65.0  ...              35.0           0.875000   \n",
       " 99825                 108.0  ...              24.0          12.000000   \n",
       " 99826                 153.0  ...             314.0           4.906250   \n",
       " 99827                1629.0  ...               0.0                NaN   \n",
       " \n",
       "            num_modc_cpg_count_500  frac_modc_sum_1000  frac_modc_mean_1000  \\\n",
       " Ranges_ID                                                                    \n",
       " 0                            12.0            1.275641             0.637821   \n",
       " 1                            32.0           13.653797             0.718621   \n",
       " 2                            52.0           20.301625             0.812065   \n",
       " 3                           108.0            0.857955             0.428977   \n",
       " 4                            14.0            3.635545             0.605924   \n",
       " ...                           ...                 ...                  ...   \n",
       " 99823                        16.0           20.802316             0.904449   \n",
       " 99824                        40.0           11.302648             0.869434   \n",
       " 99825                         2.0           11.780551             0.906196   \n",
       " 99826                        64.0           24.689034             0.796420   \n",
       " 99827                         0.0            0.000000                  NaN   \n",
       " \n",
       "            frac_modc_cpg_count_1000  num_modc_sum_1000  num_modc_mean_1000  \\\n",
       " Ranges_ID                                                                    \n",
       " 0                               2.0               16.0            8.000000   \n",
       " 1                              19.0              292.0            6.636364   \n",
       " 2                              25.0              351.0            8.357143   \n",
       " 3                               2.0               11.0            5.500000   \n",
       " 4                               6.0               62.0           10.333333   \n",
       " ...                             ...                ...                 ...   \n",
       " 99823                          23.0              372.0           13.285714   \n",
       " 99824                          13.0              210.0           10.500000   \n",
       " 99825                          13.0              231.0           12.833333   \n",
       " 99826                          31.0              478.0           14.058824   \n",
       " 99827                           0.0                0.0                 NaN   \n",
       " \n",
       "            num_modc_cpg_count_1000  log_accessibility  \n",
       " Ranges_ID                                              \n",
       " 0                              2.0           1.104584  \n",
       " 1                             44.0           8.362192  \n",
       " 2                             42.0           3.572049  \n",
       " 3                              2.0           1.953608  \n",
       " 4                              6.0           1.513328  \n",
       " ...                            ...                ...  \n",
       " 99823                         28.0           2.821749  \n",
       " 99824                         20.0           2.550673  \n",
       " 99825                         18.0          -0.271632  \n",
       " 99826                         34.0           2.469879  \n",
       " 99827                          0.0           3.851453  \n",
       " \n",
       " [99828 rows x 108 columns]}"
      ]
     },
     "execution_count": 11,
     "metadata": {},
     "output_type": "execute_result"
    }
   ],
   "source": [
    "beds250_m0"
   ]
  },
  {
   "cell_type": "markdown",
   "metadata": {},
   "source": [
    "# Train/Predict"
   ]
  },
  {
   "cell_type": "markdown",
   "metadata": {},
   "source": [
    "## Helper function def"
   ]
  },
  {
   "cell_type": "code",
   "execution_count": 12,
   "metadata": {
    "collapsed": true
   },
   "outputs": [],
   "source": [
    "## Written by Biomodal\n",
    "\n",
    "def eval_results(test_obs, pred_obs):\n",
    "    \n",
    "    mse = mean_squared_error(test_obs, pred_obs)\n",
    "    r2 = r2_score(test_obs, pred_obs)\n",
    "    spear = spearmanr(test_obs, pred_obs).correlation\n",
    "    pears = pearsonr(test_obs, pred_obs).statistic\n",
    "\n",
    "    return {\"mse\": mse, \"r2\": r2, \"pearsonR\": pears, \"spearmanR\": spear}\n",
    "\n",
    "\n",
    "\n",
    "\n",
    "def find_optimal_parameters(res_train, mod=\"mc + hmc\", test_contig=\"chr8\"):\n",
    "\n",
    "    X = res_train.loc[res_train.accessibility > 0]\n",
    "    X_train = X[X.Chromosome != test_contig]\n",
    "    y_train = X_train['log_accessibility']\n",
    "\n",
    "    # select predictors to use in model\n",
    "    if (mod == \"modc\") | (mod == \"mc\"):\n",
    "        predictors = [\"frac_\" + mod + \"_mean_\" + str(x) for x in [-1000,-500,0,500,1000]]\n",
    "        predictors += [\"num_contexts_\" + str(x) for x in [-1000,-500,0,500,1000]]\n",
    "    elif mod == \"mc + hmc\":\n",
    "        predictors = [\"frac_mc\" + \"_mean_\" + str(x) for x in [-1000,-500,0,500,1000]]\n",
    "        predictors += [\"frac_hmc\" + \"_mean_\" + str(x) for x in [-1000,-500,0,500,1000]]\n",
    "        predictors += [\"num_contexts_\" + str(x) for x in [-1000,-500,0,500,1000]]\n",
    "    \n",
    "#     param_grid = {\n",
    "#         \"n_estimators\": [500],\n",
    "#         \"max_depth\": [7],\n",
    "#         \"eta\": [0.01],\n",
    "#         \"subsample\": np.arange(0.5, 0.6, 0.1),\n",
    "#         \"colsample_bytree\": [0.8],\n",
    "#     }\n",
    "    \n",
    "    param_grid = {\n",
    "        \"n_estimators\": np.arange(100, 600, 200),\n",
    "        \"max_depth\": np.arange(3, 8, 2),\n",
    "        \"eta\": np.arange(0.01, 0.05, 0.01),\n",
    "        \"subsample\": np.arange(0.2, 0.6, 0.1),\n",
    "        \"colsample_bytree\": np.arange(0.8, 1.0, 0.05),\n",
    "    }\n",
    "    \n",
    "    #{'colsample_bytree': 0.8, 'eta': 0.01, 'max_depth': 7, 'n_estimators': 500, 'subsample': 0.5000000000000001}\n",
    "    \n",
    "    print(\"Finding optimal parameters for: \" + mod)\n",
    "    regressor = xgb.XGBRegressor(eval_metric=\"rmsle\")\n",
    "    search = GridSearchCV(regressor, param_grid, cv=3).fit(X_train[predictors], y_train)\n",
    "    print(\"Optimal parameters for \" + mod + \":\")\n",
    "    print(search.best_params_)"
   ]
  },
  {
   "cell_type": "markdown",
   "metadata": {},
   "source": [
    "## Find optimal parameters"
   ]
  },
  {
   "cell_type": "markdown",
   "metadata": {},
   "source": [
    "###  Timepoint: 0 hrs "
   ]
  },
  {
   "cell_type": "code",
   "execution_count": 13,
   "metadata": {},
   "outputs": [
    {
     "name": "stdout",
     "output_type": "stream",
     "text": [
      "Finding optimal parameters for: mc + hmc\n",
      "Optimal parameters for mc + hmc:\n",
      "{'colsample_bytree': 0.9500000000000002, 'eta': 0.02, 'max_depth': 7, 'n_estimators': 500, 'subsample': 0.5000000000000001}\n"
     ]
    }
   ],
   "source": [
    "find_optimal_parameters(beds250_m0[\"all\"], test_contig=\"chr1\")"
   ]
  },
  {
   "cell_type": "markdown",
   "metadata": {},
   "source": [
    "###  Timepoint: 8 days "
   ]
  },
  {
   "cell_type": "code",
   "execution_count": 13,
   "metadata": {},
   "outputs": [
    {
     "name": "stdout",
     "output_type": "stream",
     "text": [
      "Finding optimal parameters for: mc + hmc\n",
      "Optimal parameters for mc + hmc:\n",
      "{'colsample_bytree': 0.9500000000000002, 'eta': 0.02, 'max_depth': 7, 'n_estimators': 500, 'subsample': 0.5000000000000001}\n"
     ]
    }
   ],
   "source": [
    "find_optimal_parameters(beds250_m8[\"all\"], test_contig=\"chr1\")"
   ]
  },
  {
   "cell_type": "code",
   "execution_count": null,
   "metadata": {
    "collapsed": true
   },
   "outputs": [],
   "source": []
  },
  {
   "cell_type": "code",
   "execution_count": null,
   "metadata": {
    "collapsed": true
   },
   "outputs": [],
   "source": []
  },
  {
   "cell_type": "code",
   "execution_count": null,
   "metadata": {
    "collapsed": true
   },
   "outputs": [],
   "source": []
  },
  {
   "cell_type": "code",
   "execution_count": null,
   "metadata": {
    "collapsed": true
   },
   "outputs": [],
   "source": []
  },
  {
   "cell_type": "code",
   "execution_count": null,
   "metadata": {
    "collapsed": true
   },
   "outputs": [],
   "source": []
  },
  {
   "cell_type": "code",
   "execution_count": null,
   "metadata": {
    "collapsed": true
   },
   "outputs": [],
   "source": []
  },
  {
   "cell_type": "code",
   "execution_count": null,
   "metadata": {
    "collapsed": true
   },
   "outputs": [],
   "source": []
  }
 ],
 "metadata": {
  "kernelspec": {
   "display_name": "jupyter_modality",
   "language": "python",
   "name": "jupyter_modality"
  },
  "language_info": {
   "codemirror_mode": {
    "name": "ipython",
    "version": 3
   },
   "file_extension": ".py",
   "mimetype": "text/x-python",
   "name": "python",
   "nbconvert_exporter": "python",
   "pygments_lexer": "ipython3",
   "version": "3.11.0"
  },
  "toc": {
   "base_numbering": 1,
   "nav_menu": {},
   "number_sections": true,
   "sideBar": true,
   "skip_h1_title": false,
   "title_cell": "Table of Contents",
   "title_sidebar": "Contents",
   "toc_cell": false,
   "toc_position": {},
   "toc_section_display": true,
   "toc_window_display": true
  }
 },
 "nbformat": 4,
 "nbformat_minor": 2
}
