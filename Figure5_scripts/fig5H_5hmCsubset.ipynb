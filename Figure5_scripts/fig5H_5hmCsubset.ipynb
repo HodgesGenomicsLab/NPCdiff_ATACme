{
 "cells": [
  {
   "cell_type": "code",
   "execution_count": 5,
   "metadata": {},
   "outputs": [],
   "source": [
    "library(tidyverse)\n",
    "library(data.table)\n",
    "library(RColorBrewer)\n",
    "library(MetBrewer)"
   ]
  },
  {
   "cell_type": "markdown",
   "metadata": {},
   "source": [
    "## Read in filtered 6-base data over regions"
   ]
  },
  {
   "cell_type": "code",
   "execution_count": 10,
   "metadata": {},
   "outputs": [
    {
     "name": "stderr",
     "output_type": "stream",
     "text": [
      "\u001b[1mRows: \u001b[22m\u001b[34m282986\u001b[39m \u001b[1mColumns: \u001b[22m\u001b[34m12\u001b[39m\n",
      "\u001b[36m──\u001b[39m \u001b[1mColumn specification\u001b[22m \u001b[36m────────────────────────────────────────────────────────\u001b[39m\n",
      "\u001b[1mDelimiter:\u001b[22m \"\\t\"\n",
      "\u001b[31mchr\u001b[39m (3): peakID, cluster, time\n",
      "\u001b[32mdbl\u001b[39m (9): reg_mCA, reg_hmCA, reg_unmodCA, reg_mCB, reg_hmCB, reg_unmodCB, reg...\n",
      "\n",
      "\u001b[36mℹ\u001b[39m Use `spec()` to retrieve the full column specification for this data.\n",
      "\u001b[36mℹ\u001b[39m Specify the column types or set `show_col_types = FALSE` to quiet this message.\n",
      "\u001b[1mRows: \u001b[22m\u001b[34m38189\u001b[39m \u001b[1mColumns: \u001b[22m\u001b[34m5\u001b[39m\n",
      "\u001b[36m──\u001b[39m \u001b[1mColumn specification\u001b[22m \u001b[36m────────────────────────────────────────────────────────\u001b[39m\n",
      "\u001b[1mDelimiter:\u001b[22m \"\\t\"\n",
      "\u001b[31mchr\u001b[39m (2): region_chr, peakID\n",
      "\u001b[32mdbl\u001b[39m (3): region_start, region_end, cluster\n",
      "\n",
      "\u001b[36mℹ\u001b[39m Use `spec()` to retrieve the full column specification for this data.\n",
      "\u001b[36mℹ\u001b[39m Specify the column types or set `show_col_types = FALSE` to quiet this message.\n",
      "\u001b[1mRows: \u001b[22m\u001b[34m63026\u001b[39m \u001b[1mColumns: \u001b[22m\u001b[34m4\u001b[39m\n",
      "\u001b[36m──\u001b[39m \u001b[1mColumn specification\u001b[22m \u001b[36m────────────────────────────────────────────────────────\u001b[39m\n",
      "\u001b[1mDelimiter:\u001b[22m \"\\t\"\n",
      "\u001b[31mchr\u001b[39m (2): region_chr, peakID\n",
      "\u001b[32mdbl\u001b[39m (2): region_start, region_end\n",
      "\n",
      "\u001b[36mℹ\u001b[39m Use `spec()` to retrieve the full column specification for this data.\n",
      "\u001b[36mℹ\u001b[39m Specify the column types or set `show_col_types = FALSE` to quiet this message.\n"
     ]
    }
   ],
   "source": [
    "modC_cluster<- read_tsv(\"/data/hodges_lab/6L_seq/data/modC_6L_data.tsv\")\n",
    "dynamic_peaks<- read_tsv(\"/data/hodges_lab/NPCdiff_ATACme/data/TC_seq/peak_subset_dynamic.bed\", \n",
    "                         col_names = c(\"region_chr\", \"region_start\", \"region_end\", \"cluster\", \"peakID\"))\n",
    "static_peaks<- read_tsv(\"/data/hodges_lab/NPCdiff_ATACme/data/TC_seq/peak_subset_static.bed\", \n",
    "                        col_names = c(\"region_chr\", \"region_start\", \"region_end\", \"peakID\")) %>% \n",
    "    mutate(\"cluster\" = \"static\") %>% select(1:3,5,4)"
   ]
  },
  {
   "cell_type": "code",
   "execution_count": 11,
   "metadata": {},
   "outputs": [
    {
     "data": {
      "text/html": [
       "<table class=\"dataframe\">\n",
       "<caption>A tibble: 6 × 12</caption>\n",
       "<thead>\n",
       "\t<tr><th scope=col>peakID</th><th scope=col>cluster</th><th scope=col>reg_mCA</th><th scope=col>reg_hmCA</th><th scope=col>reg_unmodCA</th><th scope=col>reg_mCB</th><th scope=col>reg_hmCB</th><th scope=col>reg_unmodCB</th><th scope=col>reg_avg_mC</th><th scope=col>reg_avg_hmC</th><th scope=col>reg_avg_unmodC</th><th scope=col>time</th></tr>\n",
       "\t<tr><th scope=col>&lt;chr&gt;</th><th scope=col>&lt;chr&gt;</th><th scope=col>&lt;dbl&gt;</th><th scope=col>&lt;dbl&gt;</th><th scope=col>&lt;dbl&gt;</th><th scope=col>&lt;dbl&gt;</th><th scope=col>&lt;dbl&gt;</th><th scope=col>&lt;dbl&gt;</th><th scope=col>&lt;dbl&gt;</th><th scope=col>&lt;dbl&gt;</th><th scope=col>&lt;dbl&gt;</th><th scope=col>&lt;chr&gt;</th></tr>\n",
       "</thead>\n",
       "<tbody>\n",
       "\t<tr><td>peak10    </td><td>static</td><td>0.4703406887</td><td>0.1183343617</td><td>0.37363274</td><td>0.3544871795</td><td>0.302564103</td><td>0.31794872</td><td>0.4124139341</td><td>0.2104492321</td><td>0.34579073</td><td>0day</td></tr>\n",
       "\t<tr><td>peak100   </td><td>static</td><td>0.0050356641</td><td>0.0057640145</td><td>0.94746472</td><td>0.0105485232</td><td>0.004219409</td><td>0.94430380</td><td>0.0077920936</td><td>0.0049917119</td><td>0.94588426</td><td>0day</td></tr>\n",
       "\t<tr><td>peak1000  </td><td>static</td><td>0.0066915733</td><td>0.0042753623</td><td>0.96276053</td><td>0.0021367521</td><td>0.004273504</td><td>0.97487790</td><td>0.0044141627</td><td>0.0042744333</td><td>0.96881921</td><td>0day</td></tr>\n",
       "\t<tr><td>peak10000 </td><td>static</td><td>0.0008654318</td><td>0.0009377664</td><td>0.95724727</td><td>0.0009337068</td><td>0.000000000</td><td>0.96366324</td><td>0.0008995693</td><td>0.0004688832</td><td>0.96045526</td><td>0day</td></tr>\n",
       "\t<tr><td>peak100000</td><td>7     </td><td>0.8041277779</td><td>0.0365444360</td><td>0.08765386</td><td>0.8716765873</td><td>0.068700397</td><td>0.02256944</td><td>0.8379021826</td><td>0.0526224164</td><td>0.05511165</td><td>0day</td></tr>\n",
       "\t<tr><td>peak100001</td><td>static</td><td>0.8455086580</td><td>0.0450487013</td><td>0.06493506</td><td>0.6473214286</td><td>0.062500000</td><td>0.22767857</td><td>0.7464150433</td><td>0.0537743506</td><td>0.14630682</td><td>0day</td></tr>\n",
       "</tbody>\n",
       "</table>\n"
      ],
      "text/latex": [
       "A tibble: 6 × 12\n",
       "\\begin{tabular}{llllllllllll}\n",
       " peakID & cluster & reg\\_mCA & reg\\_hmCA & reg\\_unmodCA & reg\\_mCB & reg\\_hmCB & reg\\_unmodCB & reg\\_avg\\_mC & reg\\_avg\\_hmC & reg\\_avg\\_unmodC & time\\\\\n",
       " <chr> & <chr> & <dbl> & <dbl> & <dbl> & <dbl> & <dbl> & <dbl> & <dbl> & <dbl> & <dbl> & <chr>\\\\\n",
       "\\hline\n",
       "\t peak10     & static & 0.4703406887 & 0.1183343617 & 0.37363274 & 0.3544871795 & 0.302564103 & 0.31794872 & 0.4124139341 & 0.2104492321 & 0.34579073 & 0day\\\\\n",
       "\t peak100    & static & 0.0050356641 & 0.0057640145 & 0.94746472 & 0.0105485232 & 0.004219409 & 0.94430380 & 0.0077920936 & 0.0049917119 & 0.94588426 & 0day\\\\\n",
       "\t peak1000   & static & 0.0066915733 & 0.0042753623 & 0.96276053 & 0.0021367521 & 0.004273504 & 0.97487790 & 0.0044141627 & 0.0042744333 & 0.96881921 & 0day\\\\\n",
       "\t peak10000  & static & 0.0008654318 & 0.0009377664 & 0.95724727 & 0.0009337068 & 0.000000000 & 0.96366324 & 0.0008995693 & 0.0004688832 & 0.96045526 & 0day\\\\\n",
       "\t peak100000 & 7      & 0.8041277779 & 0.0365444360 & 0.08765386 & 0.8716765873 & 0.068700397 & 0.02256944 & 0.8379021826 & 0.0526224164 & 0.05511165 & 0day\\\\\n",
       "\t peak100001 & static & 0.8455086580 & 0.0450487013 & 0.06493506 & 0.6473214286 & 0.062500000 & 0.22767857 & 0.7464150433 & 0.0537743506 & 0.14630682 & 0day\\\\\n",
       "\\end{tabular}\n"
      ],
      "text/markdown": [
       "\n",
       "A tibble: 6 × 12\n",
       "\n",
       "| peakID &lt;chr&gt; | cluster &lt;chr&gt; | reg_mCA &lt;dbl&gt; | reg_hmCA &lt;dbl&gt; | reg_unmodCA &lt;dbl&gt; | reg_mCB &lt;dbl&gt; | reg_hmCB &lt;dbl&gt; | reg_unmodCB &lt;dbl&gt; | reg_avg_mC &lt;dbl&gt; | reg_avg_hmC &lt;dbl&gt; | reg_avg_unmodC &lt;dbl&gt; | time &lt;chr&gt; |\n",
       "|---|---|---|---|---|---|---|---|---|---|---|---|\n",
       "| peak10     | static | 0.4703406887 | 0.1183343617 | 0.37363274 | 0.3544871795 | 0.302564103 | 0.31794872 | 0.4124139341 | 0.2104492321 | 0.34579073 | 0day |\n",
       "| peak100    | static | 0.0050356641 | 0.0057640145 | 0.94746472 | 0.0105485232 | 0.004219409 | 0.94430380 | 0.0077920936 | 0.0049917119 | 0.94588426 | 0day |\n",
       "| peak1000   | static | 0.0066915733 | 0.0042753623 | 0.96276053 | 0.0021367521 | 0.004273504 | 0.97487790 | 0.0044141627 | 0.0042744333 | 0.96881921 | 0day |\n",
       "| peak10000  | static | 0.0008654318 | 0.0009377664 | 0.95724727 | 0.0009337068 | 0.000000000 | 0.96366324 | 0.0008995693 | 0.0004688832 | 0.96045526 | 0day |\n",
       "| peak100000 | 7      | 0.8041277779 | 0.0365444360 | 0.08765386 | 0.8716765873 | 0.068700397 | 0.02256944 | 0.8379021826 | 0.0526224164 | 0.05511165 | 0day |\n",
       "| peak100001 | static | 0.8455086580 | 0.0450487013 | 0.06493506 | 0.6473214286 | 0.062500000 | 0.22767857 | 0.7464150433 | 0.0537743506 | 0.14630682 | 0day |\n",
       "\n"
      ],
      "text/plain": [
       "  peakID     cluster reg_mCA      reg_hmCA     reg_unmodCA reg_mCB     \n",
       "1 peak10     static  0.4703406887 0.1183343617 0.37363274  0.3544871795\n",
       "2 peak100    static  0.0050356641 0.0057640145 0.94746472  0.0105485232\n",
       "3 peak1000   static  0.0066915733 0.0042753623 0.96276053  0.0021367521\n",
       "4 peak10000  static  0.0008654318 0.0009377664 0.95724727  0.0009337068\n",
       "5 peak100000 7       0.8041277779 0.0365444360 0.08765386  0.8716765873\n",
       "6 peak100001 static  0.8455086580 0.0450487013 0.06493506  0.6473214286\n",
       "  reg_hmCB    reg_unmodCB reg_avg_mC   reg_avg_hmC  reg_avg_unmodC time\n",
       "1 0.302564103 0.31794872  0.4124139341 0.2104492321 0.34579073     0day\n",
       "2 0.004219409 0.94430380  0.0077920936 0.0049917119 0.94588426     0day\n",
       "3 0.004273504 0.97487790  0.0044141627 0.0042744333 0.96881921     0day\n",
       "4 0.000000000 0.96366324  0.0008995693 0.0004688832 0.96045526     0day\n",
       "5 0.068700397 0.02256944  0.8379021826 0.0526224164 0.05511165     0day\n",
       "6 0.062500000 0.22767857  0.7464150433 0.0537743506 0.14630682     0day"
      ]
     },
     "metadata": {},
     "output_type": "display_data"
    }
   ],
   "source": [
    "head(modC_cluster)"
   ]
  },
  {
   "cell_type": "markdown",
   "metadata": {},
   "source": [
    "## find average modC values across each peak region "
   ]
  },
  {
   "cell_type": "code",
   "execution_count": 21,
   "metadata": {},
   "outputs": [
    {
     "name": "stderr",
     "output_type": "stream",
     "text": [
      "\u001b[1m\u001b[22mJoining with `by = join_by(peakID, cluster)`\n"
     ]
    }
   ],
   "source": [
    "peaks<- rbind(dynamic_peaks, static_peaks)\n",
    "modC_cluster$time<- factor(modC_cluster$time, levels = c(\"0day\", \"4day\", \"8day\"))\n",
    "modC_cluster_coord<- inner_join(modC_cluster, peaks)\n",
    "hmC_high_0day<- modC_cluster_coord %>% pivot_wider(id_cols = c(peakID, cluster, region_chr, region_start, region_end), values_from = reg_avg_hmC, names_from = time) %>% \n",
    "    filter(\"0day\" >= 0.105324) %>% ungroup() %>% select(-\"4day\", -\"8day\", -peakID, -cluster) %>% drop_na() \n",
    "hmC_low_0day <- modC_cluster_coord %>% pivot_wider(id_cols = c(peakID, cluster, region_chr, region_start, region_end), values_from = reg_avg_hmC, names_from = time) %>% \n",
    "    filter(\"0day\" < 0.105324) %>% ungroup() %>% select(-\"4day\", -\"8day\", -peakID, -cluster) %>% drop_na() \n",
    "\n",
    "hmC_high_4day<- modC_cluster_coord %>% pivot_wider(id_cols = c(peakID, cluster, region_chr, region_start, region_end), values_from = reg_avg_hmC, names_from = time) %>% \n",
    "    filter(\"4day\" >= 0.105324) %>% ungroup() %>% select(-\"0day\", -\"8day\", -peakID, -cluster) %>% drop_na() \n",
    "hmC_low_4day <- modC_cluster_coord %>% pivot_wider(id_cols = c(peakID, cluster, region_chr, region_start, region_end), values_from = reg_avg_hmC, names_from = time) %>% \n",
    "    filter(\"4day\" < 0.105324) %>% ungroup() %>% select(-\"0day\", -\"8day\", -peakID, -cluster) %>% drop_na() \n",
    "\n",
    "hmC_high_8day<- modC_cluster_coord %>% pivot_wider(id_cols = c(peakID, cluster, region_chr, region_start, region_end), values_from = reg_avg_hmC, names_from = time) %>% \n",
    "    filter(\"8day\" >= 0.105324) %>% ungroup() %>% select(-\"0day\", -\"4day\", -peakID, -cluster) %>% drop_na()\n",
    "hmC_low_8day <- modC_cluster_coord %>% pivot_wider(id_cols = c(peakID, cluster, region_chr, region_start, region_end), values_from = reg_avg_hmC, names_from = time) %>% \n",
    "    filter(\"8day\" < 0.105324) %>% ungroup() %>% select(-\"0day\", -\"4day\", -peakID, -cluster) %>% drop_na()\n"
   ]
  },
  {
   "cell_type": "code",
   "execution_count": 22,
   "metadata": {},
   "outputs": [
    {
     "data": {
      "text/plain": [
       "    peakID            cluster             reg_mCA           reg_hmCA       \n",
       " Length:282986      Length:282986      Min.   :0.00000   Min.   :0.000000  \n",
       " Class :character   Class :character   1st Qu.:0.02078   1st Qu.:0.004785  \n",
       " Mode  :character   Mode  :character   Median :0.16374   Median :0.045455  \n",
       "                                       Mean   :0.24092   Mean   :0.068266  \n",
       "                                       3rd Qu.:0.40827   3rd Qu.:0.106838  \n",
       "                                       Max.   :1.00000   Max.   :0.750000  \n",
       "  reg_unmodCA        reg_mCB            reg_hmCB        reg_unmodCB    \n",
       " Min.   :0.0000   Min.   :0.000000   Min.   :0.00000   Min.   :0.0000  \n",
       " 1st Qu.:0.3846   1st Qu.:0.006918   1st Qu.:0.00000   1st Qu.:0.4000  \n",
       " Median :0.6901   Median :0.150000   Median :0.02778   Median :0.7083  \n",
       " Mean   :0.6332   Mean   :0.239917   Mean   :0.06919   Mean   :0.6417  \n",
       " 3rd Qu.:0.9203   3rd Qu.:0.407407   3rd Qu.:0.10667   3rd Qu.:0.9222  \n",
       " Max.   :1.0000   Max.   :1.000000   Max.   :1.00000   Max.   :1.0000  \n",
       "   reg_avg_mC       reg_avg_hmC       reg_avg_unmodC     time      \n",
       " Min.   :0.00000   Min.   :0.000000   Min.   :0.0000   0day:94673  \n",
       " 1st Qu.:0.02167   1st Qu.:0.007212   1st Qu.:0.3938   4day:93677  \n",
       " Median :0.16248   Median :0.044675   Median :0.6945   8day:94636  \n",
       " Mean   :0.24042   Mean   :0.068730   Mean   :0.6375               \n",
       " 3rd Qu.:0.40650   3rd Qu.:0.105324   3rd Qu.:0.9174               \n",
       " Max.   :1.00000   Max.   :0.750000   Max.   :1.0000               "
      ]
     },
     "metadata": {},
     "output_type": "display_data"
    }
   ],
   "source": [
    "summary(modC_cluster)\n",
    "\n",
    "#high/low classification based on distribution of reg_avg_hmC, top 25% is high, bottom 75% is low\n",
    "modC_hmC_subsets<- modC_cluster %>% mutate(hmC_level = case_when(reg_avg_hmC >=0.105324 ~ \"high\", \n",
    "                            reg_avg_hmC < 0.105324 ~ \"low\"))\n",
    "modC_hmC_subsets$cluster<- factor(modC_hmC_subsets$cluster, levels = c(3,1,2,6,4,7,5, \"static\"))"
   ]
  },
  {
   "cell_type": "markdown",
   "metadata": {},
   "source": [
    "## Plot Figure 5H"
   ]
  },
  {
   "cell_type": "code",
   "execution_count": 23,
   "metadata": {},
   "outputs": [
    {
     "data": {
      "image/png": "[encoded data removed]",
      "text/plain": [
       "plot without title"
      ]
     },
     "metadata": {
      "image/png": {
       "height": 420,
       "width": 420
      }
     },
     "output_type": "display_data"
    },
    {
     "data": {
      "image/png": "[encoded data removed]",
      "text/plain": [
       "plot without title"
      ]
     },
     "metadata": {
      "image/png": {
       "height": 420,
       "width": 420
      }
     },
     "output_type": "display_data"
    }
   ],
   "source": [
    "modC_hmC_subsets_g <- mutate(modC_hmC_subsets, type = case_when(cluster == \"static\" ~ \"static\", .default = \"dynamic\"))\n",
    "hmC_barplot_subsets<- ggplot(modC_hmC_subsets_g, aes(x= type, color = hmC_level, fill = hmC_level))+\n",
    "  geom_bar(position = \"fill\")+\n",
    "  scale_fill_manual(values=met.brewer(\"Renoir\", 2))+\n",
    "  scale_color_manual(values=met.brewer(\"Renoir\", 2))+\n",
    "  facet_wrap(~time)+\n",
    "  theme_minimal()\n",
    "hmC_barplot_subsets\n"
   ]
  },
  {
   "cell_type": "markdown",
   "metadata": {},
   "source": [
    "## Chi-squared calculation for Figure 5H"
   ]
  },
  {
   "cell_type": "code",
   "execution_count": 42,
   "metadata": {},
   "outputs": [
    {
     "name": "stderr",
     "output_type": "stream",
     "text": [
      "\u001b[1m\u001b[22m`summarise()` has grouped output by 'time'. You can override using the\n",
      "`.groups` argument.\n"
     ]
    },
    {
     "data": {
      "text/html": [
       "<table class=\"dataframe\">\n",
       "<caption>A grouped_df: 6 × 3</caption>\n",
       "<thead>\n",
       "\t<tr><th scope=col>time</th><th scope=col>hmC_level</th><th scope=col>count</th></tr>\n",
       "\t<tr><th scope=col>&lt;fct&gt;</th><th scope=col>&lt;chr&gt;</th><th scope=col>&lt;int&gt;</th></tr>\n",
       "</thead>\n",
       "<tbody>\n",
       "\t<tr><td>0day</td><td>high</td><td>10024</td></tr>\n",
       "\t<tr><td>0day</td><td>low </td><td>49154</td></tr>\n",
       "\t<tr><td>4day</td><td>high</td><td>12967</td></tr>\n",
       "\t<tr><td>4day</td><td>low </td><td>45586</td></tr>\n",
       "\t<tr><td>8day</td><td>high</td><td>12642</td></tr>\n",
       "\t<tr><td>8day</td><td>low </td><td>46514</td></tr>\n",
       "</tbody>\n",
       "</table>\n"
      ],
      "text/latex": [
       "A grouped\\_df: 6 × 3\n",
       "\\begin{tabular}{lll}\n",
       " time & hmC\\_level & count\\\\\n",
       " <fct> & <chr> & <int>\\\\\n",
       "\\hline\n",
       "\t 0day & high & 10024\\\\\n",
       "\t 0day & low  & 49154\\\\\n",
       "\t 4day & high & 12967\\\\\n",
       "\t 4day & low  & 45586\\\\\n",
       "\t 8day & high & 12642\\\\\n",
       "\t 8day & low  & 46514\\\\\n",
       "\\end{tabular}\n"
      ],
      "text/markdown": [
       "\n",
       "A grouped_df: 6 × 3\n",
       "\n",
       "| time &lt;fct&gt; | hmC_level &lt;chr&gt; | count &lt;int&gt; |\n",
       "|---|---|---|\n",
       "| 0day | high | 10024 |\n",
       "| 0day | low  | 49154 |\n",
       "| 4day | high | 12967 |\n",
       "| 4day | low  | 45586 |\n",
       "| 8day | high | 12642 |\n",
       "| 8day | low  | 46514 |\n",
       "\n"
      ],
      "text/plain": [
       "  time hmC_level count\n",
       "1 0day high      10024\n",
       "2 0day low       49154\n",
       "3 4day high      12967\n",
       "4 4day low       45586\n",
       "5 8day high      12642\n",
       "6 8day low       46514"
      ]
     },
     "metadata": {},
     "output_type": "display_data"
    },
    {
     "name": "stderr",
     "output_type": "stream",
     "text": [
      "\u001b[1m\u001b[22m`summarise()` has grouped output by 'type'. You can override using the\n",
      "`.groups` argument.\n"
     ]
    },
    {
     "data": {
      "text/html": [
       "<table class=\"dataframe\">\n",
       "<caption>A data.frame: 2 × 2</caption>\n",
       "<thead>\n",
       "\t<tr><th></th><th scope=col>dynamic</th><th scope=col>static</th></tr>\n",
       "\t<tr><th></th><th scope=col>&lt;int&gt;</th><th scope=col>&lt;int&gt;</th></tr>\n",
       "</thead>\n",
       "<tbody>\n",
       "\t<tr><th scope=row>high</th><td> 9536</td><td>10024</td></tr>\n",
       "\t<tr><th scope=row>low</th><td>25959</td><td>49154</td></tr>\n",
       "</tbody>\n",
       "</table>\n"
      ],
      "text/latex": [
       "A data.frame: 2 × 2\n",
       "\\begin{tabular}{r|ll}\n",
       "  & dynamic & static\\\\\n",
       "  & <int> & <int>\\\\\n",
       "\\hline\n",
       "\thigh &  9536 & 10024\\\\\n",
       "\tlow & 25959 & 49154\\\\\n",
       "\\end{tabular}\n"
      ],
      "text/markdown": [
       "\n",
       "A data.frame: 2 × 2\n",
       "\n",
       "| <!--/--> | dynamic &lt;int&gt; | static &lt;int&gt; |\n",
       "|---|---|---|\n",
       "| high |  9536 | 10024 |\n",
       "| low | 25959 | 49154 |\n",
       "\n"
      ],
      "text/plain": [
       "     dynamic static\n",
       "high  9536   10024 \n",
       "low  25959   49154 "
      ]
     },
     "metadata": {},
     "output_type": "display_data"
    },
    {
     "data": {
      "text/plain": [
       "\n",
       "\tPearson's Chi-squared test with Yates' continuity correction\n",
       "\n",
       "data:  df_0\n",
       "X-squared = 411.67, df = 1, p-value < 2.2e-16\n"
      ]
     },
     "metadata": {},
     "output_type": "display_data"
    },
    {
     "name": "stderr",
     "output_type": "stream",
     "text": [
      "\u001b[1m\u001b[22m`summarise()` has grouped output by 'type'. You can override using the\n",
      "`.groups` argument.\n"
     ]
    },
    {
     "data": {
      "text/html": [
       "<table class=\"dataframe\">\n",
       "<caption>A data.frame: 2 × 2</caption>\n",
       "<thead>\n",
       "\t<tr><th></th><th scope=col>dynamic</th><th scope=col>static</th></tr>\n",
       "\t<tr><th></th><th scope=col>&lt;int&gt;</th><th scope=col>&lt;int&gt;</th></tr>\n",
       "</thead>\n",
       "<tbody>\n",
       "\t<tr><th scope=row>high</th><td>13559</td><td>12967</td></tr>\n",
       "\t<tr><th scope=row>low</th><td>21565</td><td>45586</td></tr>\n",
       "</tbody>\n",
       "</table>\n"
      ],
      "text/latex": [
       "A data.frame: 2 × 2\n",
       "\\begin{tabular}{r|ll}\n",
       "  & dynamic & static\\\\\n",
       "  & <int> & <int>\\\\\n",
       "\\hline\n",
       "\thigh & 13559 & 12967\\\\\n",
       "\tlow & 21565 & 45586\\\\\n",
       "\\end{tabular}\n"
      ],
      "text/markdown": [
       "\n",
       "A data.frame: 2 × 2\n",
       "\n",
       "| <!--/--> | dynamic &lt;int&gt; | static &lt;int&gt; |\n",
       "|---|---|---|\n",
       "| high | 13559 | 12967 |\n",
       "| low | 21565 | 45586 |\n",
       "\n"
      ],
      "text/plain": [
       "     dynamic static\n",
       "high 13559   12967 \n",
       "low  21565   45586 "
      ]
     },
     "metadata": {},
     "output_type": "display_data"
    },
    {
     "data": {
      "text/plain": [
       "\n",
       "\tPearson's Chi-squared test with Yates' continuity correction\n",
       "\n",
       "data:  df_4\n",
       "X-squared = 817.3, df = 1, p-value < 2.2e-16\n"
      ]
     },
     "metadata": {},
     "output_type": "display_data"
    },
    {
     "name": "stderr",
     "output_type": "stream",
     "text": [
      "\u001b[1m\u001b[22m`summarise()` has grouped output by 'type'. You can override using the\n",
      "`.groups` argument.\n"
     ]
    },
    {
     "data": {
      "text/html": [
       "<table class=\"dataframe\">\n",
       "<caption>A data.frame: 2 × 2</caption>\n",
       "<thead>\n",
       "\t<tr><th></th><th scope=col>dynamic</th><th scope=col>static</th></tr>\n",
       "\t<tr><th></th><th scope=col>&lt;int&gt;</th><th scope=col>&lt;int&gt;</th></tr>\n",
       "</thead>\n",
       "<tbody>\n",
       "\t<tr><th scope=row>high</th><td>12022</td><td>12642</td></tr>\n",
       "\t<tr><th scope=row>low</th><td>23458</td><td>46514</td></tr>\n",
       "</tbody>\n",
       "</table>\n"
      ],
      "text/latex": [
       "A data.frame: 2 × 2\n",
       "\\begin{tabular}{r|ll}\n",
       "  & dynamic & static\\\\\n",
       "  & <int> & <int>\\\\\n",
       "\\hline\n",
       "\thigh & 12022 & 12642\\\\\n",
       "\tlow & 23458 & 46514\\\\\n",
       "\\end{tabular}\n"
      ],
      "text/markdown": [
       "\n",
       "A data.frame: 2 × 2\n",
       "\n",
       "| <!--/--> | dynamic &lt;int&gt; | static &lt;int&gt; |\n",
       "|---|---|---|\n",
       "| high | 12022 | 12642 |\n",
       "| low | 23458 | 46514 |\n",
       "\n"
      ],
      "text/plain": [
       "     dynamic static\n",
       "high 12022   12642 \n",
       "low  23458   46514 "
      ]
     },
     "metadata": {},
     "output_type": "display_data"
    },
    {
     "data": {
      "text/plain": [
       "\n",
       "\tPearson's Chi-squared test with Yates' continuity correction\n",
       "\n",
       "data:  df_8\n",
       "X-squared = 375.7, df = 1, p-value < 2.2e-16\n"
      ]
     },
     "metadata": {},
     "output_type": "display_data"
    },
    {
     "ename": "ERROR",
     "evalue": "\u001b[1m\u001b[33mError\u001b[39m in `ggsave()`:\u001b[22m\n\u001b[1m\u001b[22m\u001b[33m!\u001b[39m Cannot find directory \u001b[34m/Users/lindsey/Desktop/Hodges_Lab/ATAC-me\u001b[39m\n  \u001b[34mNPCdiff/NPCDiff_ATACme/New_timepoints/Figures\u001b[39m.\n\u001b[36mℹ\u001b[39m Please supply an existing directory or use `create.dir = TRUE`.\n",
     "output_type": "error",
     "traceback": [
      "\u001b[1m\u001b[33mError\u001b[39m in `ggsave()`:\u001b[22m\n\u001b[1m\u001b[22m\u001b[33m!\u001b[39m Cannot find directory \u001b[34m/Users/lindsey/Desktop/Hodges_Lab/ATAC-me\u001b[39m\n  \u001b[34mNPCdiff/NPCDiff_ATACme/New_timepoints/Figures\u001b[39m.\n\u001b[36mℹ\u001b[39m Please supply an existing directory or use `create.dir = TRUE`.\nTraceback:\n",
      "1. ggsave(hmC_barplot_subsets, filename = \"/Users/lindsey/Desktop/Hodges_Lab/ATAC-me NPCdiff/NPCDiff_ATACme/New_timepoints/Figures/hmCsubset_lowhigh_enrichment.pdf\", \n .     units = \"in\", width = 3, height = 2)",
      "2. check_path(path, filename, create.dir)",
      "3. cli::cli_abort(c(\"Cannot find directory {.path {path}}.\", i = \"Please supply an existing directory or use {.code create.dir = TRUE}.\"), \n .     call = call)",
      "4. rlang::abort(message, ..., call = call, use_cli_format = TRUE, \n .     .frame = .frame)",
      "5. signal_abort(cnd, .file)"
     ]
    },
    {
     "data": {
      "image/png": "[encoded data removed]",
      "text/plain": [
       "plot without title"
      ]
     },
     "metadata": {
      "image/png": {
       "height": 420,
       "width": 420
      }
     },
     "output_type": "display_data"
    }
   ],
   "source": [
    "modC_hmC_subsets_sum <- filter(modC_hmC_subsets, cluster == \"static\") %>% group_by(time, hmC_level) %>% summarise(count = n())\n",
    "modC_hmC_subsets_sum\n",
    "\n",
    "modC_hmC_subsets_g <- mutate(modC_hmC_subsets, type = case_when(cluster == \"static\" ~ \"static\", .default = \"dynamic\"))\n",
    "chisq_0<- modC_hmC_subsets_g %>% filter(time ==\"0day\") %>% group_by(type, hmC_level) %>% summarize(count = n()) %>% pivot_wider(names_from = type, values_from = count) %>% column_to_rownames(var = \"hmC_level\")\n",
    "chisq_0\n",
    "#expected based on static ratio (10024/49154) is 0.203930504129878\n",
    "obs_0<-c(chisq_0$dynamic)\n",
    "exp_0<- c(sum(obs_0)*0.203930504129878,sum(obs_0)*(1-0.203930504129878))\n",
    "df_0<- data.frame(obs_0, exp_0)\n",
    "chisq_0_res<- chisq.test(df_0)\n",
    "chisq_0_res\n",
    "\n",
    "chisq_4<- modC_hmC_subsets_g %>% filter(time ==\"4day\") %>% group_by(type, hmC_level) %>% summarize(count = n()) %>% pivot_wider(names_from = type, values_from = count) %>% column_to_rownames(var = \"hmC_level\")\n",
    "chisq_4\n",
    "#expected based on static ratio (12967/45586) is 0.284451366647655\n",
    "obs_4<-c(chisq_4$dynamic)\n",
    "exp_4<- c(sum(obs_0)*0.284451366647655,sum(obs_0)*(1-0.284451366647655))\n",
    "df_4<- data.frame(obs_4, exp_4)\n",
    "chisq_4_res<- chisq.test(df_4)\n",
    "chisq_4_res\n",
    "\n",
    "chisq_8<- modC_hmC_subsets_g %>% filter(time ==\"8day\") %>% group_by(type, hmC_level) %>% summarize(count = n()) %>% pivot_wider(names_from = type, values_from = count) %>% column_to_rownames(var = \"hmC_level\")\n",
    "chisq_8\n",
    "#expected based on static ratio (12642/46514) is 0.271789138753924\n",
    "obs_8<-c(chisq_8$dynamic)\n",
    "exp_8<-c(sum(obs_8)*0.271789138753924,sum(obs_8)*(1-0.271789138753924))\n",
    "df_8<- data.frame(obs_8, exp_8)\n",
    "chisq_8_res<- chisq.test(df_8)\n",
    "chisq_8_res"
   ]
  },
  {
   "cell_type": "code",
   "execution_count": null,
   "metadata": {},
   "outputs": [],
   "source": []
  }
 ],
 "metadata": {
  "kernelspec": {
   "display_name": "R",
   "language": "R",
   "name": "ir"
  },
  "language_info": {
   "codemirror_mode": "r",
   "file_extension": ".r",
   "mimetype": "text/x-r-source",
   "name": "R",
   "pygments_lexer": "r",
   "version": "4.4.1"
  }
 },
 "nbformat": 4,
 "nbformat_minor": 2
}
